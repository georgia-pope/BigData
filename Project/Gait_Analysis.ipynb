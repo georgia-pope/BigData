{
 "cells": [
  {
   "cell_type": "code",
   "execution_count": null,
   "metadata": {
    "collapsed": true
   },
   "outputs": [],
   "source": [
    "import numpy as np\n",
    "import pandas as pd\n",
    "import matplotlib.pyplot as plt\n",
    "import sklearn.preprocessing as preprocessing\n",
    "from sklearn import linear_model\n",
    "from sklearn.cluster import KMeans\n",
    "\n",
    "\n",
    "\n",
    "import torch\n",
    "import torch.nn as nn\n",
    "from torch.autograd import Variable\n",
    "import torch.nn.functional as F\n",
    "import torch.utils.data as data\n",
    "import torch.optim as optim\n"
   ]
  },
  {
   "cell_type": "code",
   "execution_count": null,
   "metadata": {},
   "outputs": [],
   "source": [
    "# Load data\n",
    "X_male = np.load(\"Unify_Gait_Cycles/X_male.npy\")\n",
    "X_female = np.load(\"Unify_Gait_Cycles/X_female.npy\")\n",
    "label_male = [0]*X_male.shape[0]\n",
    "label_female = [1]*X_female.shape[0]\n",
    "\n",
    "gait_cycles = np.append(X_male, X_female, axis=0)\n",
    "labels = np.append(label_male, label_female, axis = 0)\n",
    "\n",
    "print(gait_cycles.shape)\n",
    "print(labels.shape)"
   ]
  },
  {
   "cell_type": "code",
   "execution_count": null,
   "metadata": {
    "collapsed": true
   },
   "outputs": [],
   "source": [
    "# Shuffle the data\n",
    "perm = np.random.permutation(gait_cycles.shape[0])\n",
    "gait_cycles = gait_cycles[perm]\n",
    "labels = labels[perm]\n",
    "\n",
    "\n"
   ]
  },
  {
   "cell_type": "code",
   "execution_count": null,
   "metadata": {},
   "outputs": [],
   "source": [
    "gait_cycles_x = gait_cycles[:,:,0]\n",
    "\n",
    "poly = preprocessing.PolynomialFeatures(10)\n",
    "indices = np.linspace(0,100,100, endpoint=False)\n",
    "indices = indices.T\n",
    "X = poly.fit_transform(indices.reshape(-1,1))\n",
    "print(X.shape)\n",
    "lm_array = np.ndarray((9968,11))\n",
    "\n",
    "lm_object_array = []\n",
    "for i in range(gait_cycles.shape[0]):\n",
    "    cycle = gait_cycles[i,:,3]     \n",
    "    lm = linear_model.LinearRegression(fit_intercept=True)\n",
    "    model = lm.fit(X,cycle)\n",
    "    lm_array[i,:] = model.coef_\n",
    "    lm_object_array.append(model)\n",
    "#     plt.plot(indices,model.predict(X))\n",
    "#     plt.plot(indices, gait_cycles[i,:,3])\n",
    "#     plt.show()\n",
    "\n",
    "# print(lm_array.shape)\n",
    "# kmeans = KMeans(n_clusters=20, random_state=0, n_init=20).fit(lm_array)\n",
    "# print(kmeans.labels_)\n",
    "\n",
    "# inertia_array = []\n",
    "# for i in range(1,15):\n",
    "#     kmeans_i = kmeans = KMeans(n_clusters=i, random_state=0, n_init=20).fit(lm_array)\n",
    "#     inertia_array.append(kmeans_i.inertia_)\n",
    "# plt.plot(range(1,15),inertia_array)\n",
    "# plt.show()\n",
    "\n",
    "\n",
    "kmeans = KMeans(n_clusters=10, random_state=0, n_init=20).fit(lm_array)\n",
    "# for i in range(10):\n",
    "#     plt.plot(indices, X@lm_array[i].T)\n",
    "#     plt.plot(indices, gait_cycles[i,:,3])\n",
    "#     plt.show()\n",
    "\n",
    "# mult_vals = X@(kmeans.cluster_centers_[1].T)\n",
    "# print(mult_vals)\n",
    "\n",
    "print(\"Starting final for loop\")\n",
    "for i in range(10):\n",
    "    cluster = np.where(i == kmeans.labels_)[0]\n",
    "    plot_vals = X@(kmeans.cluster_centers_[i].T)\n",
    "    plt.plot(indices, plot_vals)\n",
    "    plt.show()\n",
    "    for j in cluster:\n",
    "        plt.plot(range(0,100),gait_cycles[j,:,3], 'b-')\n",
    "#         plt.plot(range(0,100), mean_array)\n",
    "        \n",
    "    plt.show()\n",
    "    \n",
    "   \n",
    "        "
   ]
  },
  {
   "cell_type": "code",
   "execution_count": null,
   "metadata": {
    "collapsed": true
   },
   "outputs": [],
   "source": [
    "gait_cycles_train = gait_cycles[0:-500]\n",
    "gait_cycles_test = gait_cycles[-500:]\n",
    "\n",
    "labels_train = labels[0:-500]\n",
    "labels_test = labels[-500:]\n",
    "# Make them nice tensors :)\n",
    "batch_size = 9\n",
    "# gait_cycles_train = torch.FloatTensor(gait_cycles_train[:,:,3]).reshape(-1,batch_size,1,100)\n",
    "# gait_cycles_test = torch.FloatTensor(gait_cycles_test[:,:,3]).reshape(-1,1,1,100)\n",
    "# labels_train = torch.LongTensor(labels_train).reshape(-1,batch_size)\n",
    "# labels_test = torch.LongTensor(labels_test).reshape(-1, 1)\n",
    "gait_cycles_train = torch.FloatTensor(gait_cycles_train).permute(0,2,1).reshape(-1,batch_size,4,100)\n",
    "gait_cycles_test = torch.FloatTensor(gait_cycles_test).permute(0,2,1).reshape(-1,1,4,100)\n",
    "labels_train = torch.LongTensor(labels_train).reshape(-1,batch_size)\n",
    "labels_test = torch.LongTensor(labels_test).reshape(-1, 1)"
   ]
  },
  {
   "cell_type": "code",
   "execution_count": null,
   "metadata": {},
   "outputs": [],
   "source": [
    "# Visualize the data\n",
    "one_person = gait_cycles[0]\n",
    "t = range(one_person.shape[0])\n",
    "mag = one_person[:,3]\n",
    "plt.plot(t,mag)\n",
    "plt.show()\n",
    "print(gait_cycles_train.shape)\n",
    "one_person2 = gait_cycles_train[0,0,3,:].numpy()\n",
    "t = range(100)\n",
    "plt.figure()\n",
    "plt.plot(t, one_person2)\n",
    "plt.show()"
   ]
  },
  {
   "cell_type": "code",
   "execution_count": null,
   "metadata": {
    "collapsed": true
   },
   "outputs": [],
   "source": [
    "class Flatten(nn.Module):\n",
    "    \n",
    "    def forward(self, input):\n",
    "        return input.view(input.size(0), -1)"
   ]
  },
  {
   "cell_type": "code",
   "execution_count": null,
   "metadata": {
    "collapsed": true
   },
   "outputs": [],
   "source": [
    "class Gait_Classifier(nn.Module):\n",
    "    \"\"\"\n",
    "    TODO: Add attention\n",
    "    \"\"\"\n",
    "    def __init__(self, input_size=100, kernel_size=10, hidden_size=500):\n",
    "        super(Gait_Classifier, self).__init__()\n",
    "        \n",
    "        self.layers = nn.ModuleList()\n",
    "       # self.layers.append(nn.Conv1d(1, 20, kernel_size))\n",
    "        self.layers.append(nn.Sequential(\n",
    "            nn.Conv1d(4, 20, kernel_size),\n",
    "            nn.ReLU(),\n",
    "            nn.MaxPool1d(kernel_size=2)))\n",
    "        self.layers.append(nn.Sequential(\n",
    "            nn.Conv1d(20, 40, kernel_size),\n",
    "            nn.ReLU(),\n",
    "            nn.MaxPool2d(kernel_size=2)))\n",
    "        self.layers.append(nn.Dropout(0.1))\n",
    "        self.layers.append(Flatten())\n",
    "        self.layers.append(nn.Linear(20*18, hidden_size))\n",
    "        self.layers.append(nn.ReLU())\n",
    "        self.layers.append(nn.Linear(hidden_size, 2))\n",
    "        self.layers.append(nn.Softmax(dim=1))\n",
    "        \n",
    "        \n",
    "    def forward(self, x):\n",
    "        out = x\n",
    "        for layer in self.layers:\n",
    "            out = layer(out)\n",
    "        return out\n",
    "\n",
    "    "
   ]
  },
  {
   "cell_type": "code",
   "execution_count": null,
   "metadata": {
    "collapsed": true
   },
   "outputs": [],
   "source": [
    "#https://adventuresinmachinelearning.com/convolutional-neural-networks-tutorial-in-pytorch/ Helped a lot!\n",
    "\n",
    "def train_model(model, optimizer, x_train, y_train, x_test, y_test, batch_size, num_epochs=20):\n",
    "    loss_list = []\n",
    "    acc_list = []\n",
    "    total_step = len(x_train)\n",
    "    criterion = nn.CrossEntropyLoss()\n",
    "    \n",
    "    correct = 0.0\n",
    "    model = model.eval()\n",
    "    validation_loss = 0\n",
    "    for (test_gait, test_lab) in zip(x_test, y_test):\n",
    "        prediction = model(test_gait)\n",
    "        validation_loss += criterion(prediction, test_lab)\n",
    "        if prediction.argmax() == test_lab:\n",
    "            correct += 1.0\n",
    "    acc = correct / y_test.size()[0]\n",
    "    acc_list.append(acc)\n",
    "    validation_loss /= x_test.shape[0]\n",
    "    loss_list.append(validation_loss)\n",
    "    model = model.train()\n",
    "    \n",
    "    for epoch in range(num_epochs):\n",
    "        for i, (gaits, labels) in enumerate(zip(x_train, y_train)):\n",
    "            # Run the forward pass\n",
    "            outputs = model(gaits)\n",
    "            loss = criterion(outputs, labels)\n",
    "            #loss_list.append(loss.item())\n",
    "\n",
    "            # Backprop and perform Adam optimisation\n",
    "            optimizer.zero_grad()\n",
    "            loss.backward()\n",
    "            optimizer.step()\n",
    "\n",
    "            # Track the accuracy\n",
    "            total = labels.size(0)\n",
    "            _, predicted = torch.max(outputs.data, 1)\n",
    "            correct = (predicted == labels).sum().item()\n",
    "            # acc_list.append(correct / total)\n",
    "            \n",
    "            if (i + 1) % 1000 == 0:\n",
    "                correct = 0.0\n",
    "                model = model.eval()\n",
    "                validation_loss = 0\n",
    "                for (test_gait, test_lab) in zip(x_test, y_test):\n",
    "                    prediction = model(test_gait)\n",
    "                    validation_loss += criterion(prediction, test_lab)\n",
    "                    if prediction.argmax() == test_lab:\n",
    "                        correct += 1.0\n",
    "                acc = correct / y_test.size()[0]\n",
    "                acc_list.append(acc)\n",
    "                validation_loss /= x_test.shape[0]\n",
    "                loss_list.append(validation_loss)\n",
    "                model = model.train()\n",
    "                    \n",
    "                print('Epoch [{}/{}], Step [{}/{}], Loss: {:.4f}, Accuracy: {:.2f}%'\n",
    "                      .format(epoch + 1, num_epochs, i + 1, total_step, validation_loss,\n",
    "                              acc * 100))\n",
    "        \n",
    "    correct = 0.0\n",
    "    model = model.eval()\n",
    "    validation_loss = 0\n",
    "    for (test_gait, test_lab) in zip(x_test, y_test):\n",
    "        prediction = model(test_gait)\n",
    "        validation_loss += criterion(prediction, test_lab)\n",
    "        if prediction.argmax() == test_lab:\n",
    "            correct += 1.0\n",
    "    acc = correct / y_test.size()[0]\n",
    "    acc_list.append(acc)\n",
    "    validation_loss /= x_test.shape[0]\n",
    "    loss_list.append(validation_loss)\n",
    "    model = model.train()\n",
    "    return loss_list, acc_list\n",
    "            "
   ]
  },
  {
   "cell_type": "code",
   "execution_count": null,
   "metadata": {},
   "outputs": [],
   "source": [
    "gc = Gait_Classifier()\n",
    "learning_rate = 3e-5\n",
    "optimizer = torch.optim.Adam(gc.parameters(), lr=learning_rate)\n",
    "(loss, acc) = train_model(gc, optimizer, gait_cycles_train, labels_train, gait_cycles_test, labels_test, 1)\n"
   ]
  },
  {
   "cell_type": "code",
   "execution_count": null,
   "metadata": {},
   "outputs": [],
   "source": [
    "plt.plot(range(len(acc)),acc)\n",
    "plt.title('Classification Accuracy as a Function of Epoch')\n",
    "plt.ylabel('% Accuracy')\n",
    "plt.xlabel(\"Epoch\")\n",
    "#plt.savefig(\"classification_accuracy_Test.png\")\n",
    "plt.show()"
   ]
  },
  {
   "cell_type": "code",
   "execution_count": null,
   "metadata": {},
   "outputs": [],
   "source": [
    "(loss, acc) = train_model(gc, optimizer, gait_cycles_train, labels_train, gait_cycles_test, labels_test, 1, num_epochs=20)\n",
    "\n",
    "\n",
    "\n"
   ]
  },
  {
   "cell_type": "code",
   "execution_count": null,
   "metadata": {},
   "outputs": [],
   "source": [
    "wrong_indices = []\n",
    "for i in range(len(labels_test)):\n",
    "    if gc(gait_cycles_test[i]).argmax() != labels_test[i]:\n",
    "        wrong_indices.append(i)\n",
    "\n",
    "gait_cycles_numpy = gait_cycles[-500:]\n",
    "for i in wrong_indices:\n",
    "    one_person = gait_cycles_numpy[i]\n",
    "    t = range(one_person.shape[0])\n",
    "    mag = one_person[:,3]\n",
    "    plt.plot(t,mag)\n",
    "    plt.show()"
   ]
  },
  {
   "cell_type": "code",
   "execution_count": null,
   "metadata": {},
   "outputs": [],
   "source": [
    "print(labels_test[i])"
   ]
  },
  {
   "cell_type": "code",
   "execution_count": null,
   "metadata": {
    "collapsed": true
   },
   "outputs": [],
   "source": []
  }
 ],
 "metadata": {
  "kernelspec": {
   "display_name": "Python 3",
   "language": "python",
   "name": "python3"
  },
  "language_info": {
   "codemirror_mode": {
    "name": "ipython",
    "version": 3
   },
   "file_extension": ".py",
   "mimetype": "text/x-python",
   "name": "python",
   "nbconvert_exporter": "python",
   "pygments_lexer": "ipython3",
   "version": "3.6.1"
  }
 },
 "nbformat": 4,
 "nbformat_minor": 2
}
